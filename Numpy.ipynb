{
 "cells": [
  {
   "cell_type": "code",
   "execution_count": 1,
   "metadata": {},
   "outputs": [],
   "source": [
    "import numpy as np"
   ]
  },
  {
   "cell_type": "code",
   "execution_count": 2,
   "metadata": {},
   "outputs": [
    {
     "name": "stdout",
     "output_type": "stream",
     "text": [
      "[0. 0. 0. 0. 1. 0. 0. 0. 0. 0.]\n",
      "\n",
      "size 10\n"
     ]
    }
   ],
   "source": [
    "#1. Create a null vector of size 10 but the fifth value which is 1.\n",
    "ar=np.zeros(10)\n",
    "ar[4]=1\n",
    "print(ar)\n",
    "\n",
    "size=ar.size\n",
    "print(\"\\nsize\",size)"
   ]
  },
  {
   "cell_type": "code",
   "execution_count": 3,
   "metadata": {},
   "outputs": [
    {
     "data": {
      "text/plain": [
       "array([10, 11, 12, 13, 14, 15, 16, 17, 18, 19, 20, 21, 22, 23, 24, 25, 26,\n",
       "       27, 28, 29, 30, 31, 32, 33, 34, 35, 36, 37, 38, 39, 40, 41, 42, 43,\n",
       "       44, 45, 46, 47, 48, 49])"
      ]
     },
     "execution_count": 3,
     "metadata": {},
     "output_type": "execute_result"
    }
   ],
   "source": [
    "#2. Create a vector with values ranging from 10 to 49.\n",
    "ar=np.arange(10,50)\n",
    "ar"
   ]
  },
  {
   "cell_type": "code",
   "execution_count": 4,
   "metadata": {},
   "outputs": [
    {
     "data": {
      "text/plain": [
       "array([[0, 1, 2],\n",
       "       [3, 4, 5],\n",
       "       [6, 7, 8]])"
      ]
     },
     "execution_count": 4,
     "metadata": {},
     "output_type": "execute_result"
    }
   ],
   "source": [
    "#3. Create a 3x3 matrix with values ranging from 0 to 8\n",
    "ar=np.arange(0,9).reshape(3,3)\n",
    "ar"
   ]
  },
  {
   "cell_type": "code",
   "execution_count": 5,
   "metadata": {},
   "outputs": [
    {
     "name": "stdout",
     "output_type": "stream",
     "text": [
      "Original array:\n",
      "[1 2 0 0 4 0]\n",
      "\n",
      "Indices of null elements:\n",
      "(array([2, 3, 5], dtype=int64),)\n"
     ]
    }
   ],
   "source": [
    "#4. Find indices of non-zero elements from [1,2,0,0,4,0]\n",
    "ar = np.array([1,2,0,0,4,0])\n",
    "\n",
    "print(\"Original array:\")\n",
    "print(ar)\n",
    "\n",
    "print(\"\\nIndices of null elements:\")\n",
    "res = np.nonzero(ar == 0)\n",
    "print(res)"
   ]
  },
  {
   "cell_type": "code",
   "execution_count": 6,
   "metadata": {},
   "outputs": [
    {
     "name": "stdout",
     "output_type": "stream",
     "text": [
      "[[ 5.18429195e-01 -2.17469295e-01 -4.49256018e-01 -1.28871520e-02\n",
      "  -5.81907222e-01  1.42943396e+00 -1.14739489e+00  5.49472667e-01\n",
      "  -1.46439209e-01  8.20100557e-02]\n",
      " [-1.17418521e+00  6.11093002e-02 -3.85340835e-01  4.18694258e-01\n",
      "  -5.07778815e-01 -1.25963610e+00  1.20189418e+00 -6.23742040e-01\n",
      "  -1.23520859e-01  1.55636017e+00]\n",
      " [ 9.50427423e-01 -2.35559294e-01  8.96573972e-01  8.18807109e-01\n",
      "   3.07488410e-01 -4.29385821e-01  5.54121492e-01  1.36875780e+00\n",
      "   2.81320264e-01 -3.11177263e-01]\n",
      " [ 2.20530537e-01 -1.00481321e-01 -1.19310133e+00  8.34002261e-02\n",
      "   8.19712428e-01  1.86592992e-01 -6.89243394e-01 -4.60407311e-01\n",
      "  -1.98646043e-03  1.77689052e-01]\n",
      " [-2.55868052e+00  2.86656087e-01  1.87707089e-01 -1.02005036e+00\n",
      "   1.66107791e+00 -9.13500149e-01 -3.02772806e-01  9.74430509e-01\n",
      "  -1.96284750e-01  5.59295140e-01]\n",
      " [-2.04993550e+00  1.00649568e+00  3.53751540e-01 -1.52876617e+00\n",
      "  -4.66574795e-01 -1.23808396e+00  9.89570841e-02 -1.03465622e+00\n",
      "  -5.30660507e-01  4.37377432e-01]\n",
      " [-1.13462086e+00  6.96946426e-01 -5.95203765e-02  1.48303730e+00\n",
      "   1.23636077e+00 -7.10961301e-02 -1.16487808e+00 -6.47655104e-01\n",
      "  -2.79149835e-01 -8.55152456e-02]\n",
      " [-1.18743537e-01 -3.15499210e-01 -1.16129908e+00  1.42792272e+00\n",
      "   1.30621188e+00 -1.49806652e-01 -9.98433928e-01 -8.18622342e-01\n",
      "  -3.04464324e-01  4.59721517e-01]\n",
      " [ 2.37185430e+00 -1.49268177e+00  1.19210871e-01 -1.52681786e+00\n",
      "  -6.16575820e-01 -9.65440145e-01 -1.58233876e+00  1.41644227e+00\n",
      "  -3.15595018e-01  4.85949779e-01]\n",
      " [ 1.83936672e-01  4.18145549e-01 -1.54616718e-01  3.12560731e-01\n",
      "  -1.71235403e+00  6.68211335e-03 -6.27191478e-01  6.31688451e-01\n",
      "   1.95979940e+00  1.07122030e+00]]\n",
      "\n",
      "The minimum value is -2.5586805171473226\n",
      "\n",
      "The maximum value is 2.371854304212804\n"
     ]
    }
   ],
   "source": [
    "#5. Create a 10x10 array with random values and find the minimum and maximum values.\n",
    "ar=np.random.randn(10,10)\n",
    "print(ar)\n",
    "\n",
    "minimum =ar.min()\n",
    "\n",
    "print(\"\\nThe minimum value is\", minimum)\n",
    "\n",
    "maximum =ar.max()\n",
    "\n",
    "print(\"\\nThe maximum value is\", maximum)"
   ]
  },
  {
   "cell_type": "code",
   "execution_count": 7,
   "metadata": {},
   "outputs": [
    {
     "name": "stdout",
     "output_type": "stream",
     "text": [
      "[0.90493071 0.80194922 0.02685981 0.58490436 0.16779522 0.71251224\n",
      " 0.61816597 0.07674815 0.99694608 0.87857768 0.20776253 0.87093793\n",
      " 0.43799888 0.79663881 0.22425105 0.59694554 0.16364101 0.54331181\n",
      " 0.09778007 0.51165934 0.91736348 0.12986588 0.6145924  0.38899135\n",
      " 0.95927753 0.88163647 0.24181356 0.02477886 0.97967842 0.56172317]\n",
      "\n",
      "The mean value is 0.5306679185540089\n"
     ]
    }
   ],
   "source": [
    "#6. Create a random vector of size 30 and find the mean value.\n",
    "ar=np.random.random(30)\n",
    "print(ar)\n",
    "\n",
    "ne=ar.mean()\n",
    "print(\"\\nThe mean value is\", ne)"
   ]
  },
  {
   "cell_type": "code",
   "execution_count": null,
   "metadata": {},
   "outputs": [],
   "source": []
  }
 ],
 "metadata": {
  "kernelspec": {
   "display_name": "Python 3",
   "language": "python",
   "name": "python3"
  },
  "language_info": {
   "codemirror_mode": {
    "name": "ipython",
    "version": 3
   },
   "file_extension": ".py",
   "mimetype": "text/x-python",
   "name": "python",
   "nbconvert_exporter": "python",
   "pygments_lexer": "ipython3",
   "version": "3.8.5"
  }
 },
 "nbformat": 4,
 "nbformat_minor": 4
}
